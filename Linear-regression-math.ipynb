{
 "cells": [
  {
   "cell_type": "markdown",
   "source": [
    "## Linear Regression\n",
    "In this example, we will simulate some data with added noise and make predict for that\n",
    "We will use nupmy to get 1000 points from interval (0,3)"
   ],
   "metadata": {
    "collapsed": false
   }
  },
  {
   "cell_type": "code",
   "execution_count": 72,
   "outputs": [],
   "source": [
    "import  numpy as np\n",
    "import matplotlib.pyplot as plt\n",
    "import sklearn.model_selection as model_selection\n",
    "from sklearn import linear_model"
   ],
   "metadata": {
    "collapsed": false
   }
  },
  {
   "cell_type": "markdown",
   "source": [
    "The linear regression model assumes a linear dependence on the parameters $\\alpha_0$, $\\alpha_1$, ..., $\\alpha_m$ between the attributes  $X_1$, $X_2$, ..., $X_m$ and the target variable $y$, which is of the form $y = \\alpha_0 + \\alpha_1X_1 + \\alpha_2X_2 + \\ldots + \\alpha_mX$\n",
    "To simplify model, for now we will use two-dimensional $R^2$ space\n",
    "In that case we need to approximate our data with linear function $f(x)= ax +b$\n",
    "Now,lets create 1000 points from interval (0,3)\n"
   ],
   "metadata": {
    "collapsed": false
   }
  },
  {
   "cell_type": "code",
   "execution_count": 73,
   "outputs": [
    {
     "name": "stdout",
     "output_type": "stream",
     "text": [
      "[[0.        ]\n",
      " [0.03030303]\n",
      " [0.06060606]\n",
      " [0.09090909]\n",
      " [0.12121212]\n",
      " [0.15151515]\n",
      " [0.18181818]\n",
      " [0.21212121]\n",
      " [0.24242424]\n",
      " [0.27272727]\n",
      " [0.3030303 ]\n",
      " [0.33333333]\n",
      " [0.36363636]\n",
      " [0.39393939]\n",
      " [0.42424242]\n",
      " [0.45454545]\n",
      " [0.48484848]\n",
      " [0.51515152]\n",
      " [0.54545455]\n",
      " [0.57575758]\n",
      " [0.60606061]\n",
      " [0.63636364]\n",
      " [0.66666667]\n",
      " [0.6969697 ]\n",
      " [0.72727273]\n",
      " [0.75757576]\n",
      " [0.78787879]\n",
      " [0.81818182]\n",
      " [0.84848485]\n",
      " [0.87878788]\n",
      " [0.90909091]\n",
      " [0.93939394]\n",
      " [0.96969697]\n",
      " [1.        ]\n",
      " [1.03030303]\n",
      " [1.06060606]\n",
      " [1.09090909]\n",
      " [1.12121212]\n",
      " [1.15151515]\n",
      " [1.18181818]\n",
      " [1.21212121]\n",
      " [1.24242424]\n",
      " [1.27272727]\n",
      " [1.3030303 ]\n",
      " [1.33333333]\n",
      " [1.36363636]\n",
      " [1.39393939]\n",
      " [1.42424242]\n",
      " [1.45454545]\n",
      " [1.48484848]\n",
      " [1.51515152]\n",
      " [1.54545455]\n",
      " [1.57575758]\n",
      " [1.60606061]\n",
      " [1.63636364]\n",
      " [1.66666667]\n",
      " [1.6969697 ]\n",
      " [1.72727273]\n",
      " [1.75757576]\n",
      " [1.78787879]\n",
      " [1.81818182]\n",
      " [1.84848485]\n",
      " [1.87878788]\n",
      " [1.90909091]\n",
      " [1.93939394]\n",
      " [1.96969697]\n",
      " [2.        ]\n",
      " [2.03030303]\n",
      " [2.06060606]\n",
      " [2.09090909]\n",
      " [2.12121212]\n",
      " [2.15151515]\n",
      " [2.18181818]\n",
      " [2.21212121]\n",
      " [2.24242424]\n",
      " [2.27272727]\n",
      " [2.3030303 ]\n",
      " [2.33333333]\n",
      " [2.36363636]\n",
      " [2.39393939]\n",
      " [2.42424242]\n",
      " [2.45454545]\n",
      " [2.48484848]\n",
      " [2.51515152]\n",
      " [2.54545455]\n",
      " [2.57575758]\n",
      " [2.60606061]\n",
      " [2.63636364]\n",
      " [2.66666667]\n",
      " [2.6969697 ]\n",
      " [2.72727273]\n",
      " [2.75757576]\n",
      " [2.78787879]\n",
      " [2.81818182]\n",
      " [2.84848485]\n",
      " [2.87878788]\n",
      " [2.90909091]\n",
      " [2.93939394]\n",
      " [2.96969697]\n",
      " [3.        ]]\n"
     ]
    }
   ],
   "source": [
    "x = np.linspace(0,3,100).reshape(100,1);\n",
    "print(x)"
   ],
   "metadata": {
    "collapsed": false
   }
  },
  {
   "cell_type": "markdown",
   "source": [
    "As we can see, function numpy created for us 1000 equidistant points on interval (0,10)\n",
    "Now we will create some datasets based on this points. For that we use, for example cos function\n"
   ],
   "metadata": {
    "collapsed": false
   }
  },
  {
   "cell_type": "code",
   "execution_count": 74,
   "outputs": [],
   "source": [
    "y = 15 * np.cos(x)"
   ],
   "metadata": {
    "collapsed": false
   }
  },
  {
   "cell_type": "code",
   "execution_count": 75,
   "outputs": [
    {
     "data": {
      "text/plain": "[<matplotlib.lines.Line2D at 0x7f71da732510>]"
     },
     "execution_count": 75,
     "metadata": {},
     "output_type": "execute_result"
    },
    {
     "data": {
      "text/plain": "<Figure size 432x288 with 1 Axes>",
      "image/png": "[encoded data removed]"
     },
     "metadata": {
      "needs_background": "light"
     },
     "output_type": "display_data"
    }
   ],
   "source": [
    "plt.plot(x,y,'o')"
   ],
   "metadata": {
    "collapsed": false
   }
  },
  {
   "cell_type": "markdown",
   "source": [
    "Yes, with that we only have cos function on interval (0,10). The real data are not perfect, and we will be add some noice to our data, to simulate real scenanires. We used normal Gaussian distribution\n",
    "To always work with same data, we need specific some seed for any value. That can be  any number. After fix that, in every run script, we will have same values\n"
   ],
   "metadata": {
    "collapsed": false
   }
  },
  {
   "cell_type": "code",
   "execution_count": 76,
   "outputs": [],
   "source": [
    "np.random.seed(10)\n",
    "y = y +2* np.random.randn(100,1)"
   ],
   "metadata": {
    "collapsed": false
   }
  },
  {
   "cell_type": "markdown",
   "source": [],
   "metadata": {
    "collapsed": false
   }
  },
  {
   "cell_type": "code",
   "execution_count": 77,
   "outputs": [
    {
     "data": {
      "text/plain": "<Figure size 432x288 with 1 Axes>",
      "image/png": "[encoded data removed]"
     },
     "metadata": {
      "needs_background": "light"
     },
     "output_type": "display_data"
    }
   ],
   "source": [
    "plt.plot(x,y,'o');"
   ],
   "metadata": {
    "collapsed": false
   }
  },
  {
   "cell_type": "code",
   "execution_count": 77,
   "outputs": [],
   "source": [],
   "metadata": {
    "collapsed": false
   }
  },
  {
   "cell_type": "markdown",
   "source": [
    "Yes, now we have something similiar to real scenario. The point of our work is to find line which describe this data\n",
    "We must find $a$ and $b$ to describe function $y=ax+b$"
   ],
   "metadata": {
    "collapsed": false
   }
  },
  {
   "cell_type": "code",
   "execution_count": 83,
   "outputs": [],
   "source": [
    "def get_line(x,a,b):\n",
    "    return a*x+b"
   ],
   "metadata": {
    "collapsed": false
   }
  },
  {
   "cell_type": "markdown",
   "source": [
    "### Split data\n",
    "We must split data into train and test. We use 30% of data for test. For that we can use modelSelection model_selection from api of sklearn"
   ],
   "metadata": {
    "collapsed": false
   }
  },
  {
   "cell_type": "code",
   "execution_count": 78,
   "outputs": [],
   "source": [
    "x_train,x_test,y_train,y_test = model_selection.train_test_split(x,y,random_state=10,test_size=0.4)"
   ],
   "metadata": {
    "collapsed": false
   }
  },
  {
   "cell_type": "code",
   "execution_count": 79,
   "outputs": [
    {
     "data": {
      "text/plain": "<Figure size 432x288 with 1 Axes>",
      "image/png": "[encoded data removed]"
     },
     "metadata": {
      "needs_background": "light"
     },
     "output_type": "display_data"
    }
   ],
   "source": [
    "plt.plot(x_train,y_train,'bo')\n",
    "plt.plot(x_test,y_test,'ro')\n",
    "plt.show()"
   ],
   "metadata": {
    "collapsed": false
   }
  },
  {
   "cell_type": "markdown",
   "source": [
    "We succesfully splited data and now we can learn our model. For now we use LinearRegression model from sklearn\n",
    "### Learn Model"
   ],
   "metadata": {
    "collapsed": false
   }
  },
  {
   "cell_type": "code",
   "execution_count": 80,
   "outputs": [],
   "source": [
    "model = linear_model.LinearRegression()"
   ],
   "metadata": {
    "collapsed": false
   }
  },
  {
   "cell_type": "markdown",
   "source": [],
   "metadata": {
    "collapsed": false
   }
  },
  {
   "cell_type": "code",
   "execution_count": 81,
   "outputs": [
    {
     "data": {
      "text/plain": "LinearRegression()"
     },
     "execution_count": 81,
     "metadata": {},
     "output_type": "execute_result"
    }
   ],
   "source": [
    "model.fit(x_train,y_train)"
   ],
   "metadata": {
    "collapsed": false
   }
  },
  {
   "cell_type": "markdown",
   "source": [
    "In this model we have two important values, coeficient and interceport. To describe function $y=ax+b$ we must find this values a and b\n",
    "That are coeficiennt and intreceptor values"
   ],
   "metadata": {
    "collapsed": false
   }
  },
  {
   "cell_type": "code",
   "execution_count": 84,
   "outputs": [
    {
     "data": {
      "text/plain": "(1, 1)"
     },
     "execution_count": 84,
     "metadata": {},
     "output_type": "execute_result"
    }
   ],
   "source": [
    "coef = model.coef_\n",
    "coef.shape"
   ],
   "metadata": {
    "collapsed": false
   }
  },
  {
   "cell_type": "code",
   "execution_count": 87,
   "outputs": [
    {
     "data": {
      "text/plain": "-12.391176833216399"
     },
     "execution_count": 87,
     "metadata": {},
     "output_type": "execute_result"
    }
   ],
   "source": [
    "coef[0][0]"
   ],
   "metadata": {
    "collapsed": false
   }
  },
  {
   "cell_type": "code",
   "execution_count": 88,
   "outputs": [
    {
     "data": {
      "text/plain": "(1,)"
     },
     "execution_count": 88,
     "metadata": {},
     "output_type": "execute_result"
    }
   ],
   "source": [
    "interceptor = model.intercept_\n",
    "interceptor.shape"
   ],
   "metadata": {
    "collapsed": false
   }
  },
  {
   "cell_type": "code",
   "execution_count": 92,
   "outputs": [
    {
     "data": {
      "text/plain": "19.83877178192609"
     },
     "execution_count": 92,
     "metadata": {},
     "output_type": "execute_result"
    }
   ],
   "source": [
    "interceptor[0]"
   ],
   "metadata": {
    "collapsed": false
   }
  },
  {
   "cell_type": "code",
   "execution_count": 95,
   "outputs": [
    {
     "data": {
      "text/plain": "[<matplotlib.lines.Line2D at 0x7f71da4099d0>]"
     },
     "execution_count": 95,
     "metadata": {},
     "output_type": "execute_result"
    },
    {
     "data": {
      "text/plain": "<Figure size 432x288 with 1 Axes>",
      "image/png": "[encoded data removed]"
     },
     "metadata": {
      "needs_background": "light"
     },
     "output_type": "display_data"
    }
   ],
   "source": [
    "plt.plot(x_train,y_train,'go')\n",
    "plt.plot(x_train,get_line(x_train,coef,interceptor),'r')"
   ],
   "metadata": {
    "collapsed": false
   }
  },
  {
   "cell_type": "code",
   "execution_count": null,
   "outputs": [],
   "source": [],
   "metadata": {
    "collapsed": false
   }
  }
 ],
 "metadata": {
  "kernelspec": {
   "display_name": "Python 3",
   "language": "python",
   "name": "python3"
  },
  "language_info": {
   "codemirror_mode": {
    "name": "ipython",
    "version": 2
   },
   "file_extension": ".py",
   "mimetype": "text/x-python",
   "name": "python",
   "nbconvert_exporter": "python",
   "pygments_lexer": "ipython2",
   "version": "2.7.6"
  }
 },
 "nbformat": 4,
 "nbformat_minor": 0
}
